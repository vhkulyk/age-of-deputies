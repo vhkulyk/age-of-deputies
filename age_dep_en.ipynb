{
 "cells": [
  {
   "cell_type": "markdown",
   "id": "d2118e05-c250-4e6c-a3fc-512bb6072f4e",
   "metadata": {},
   "source": [
    "# Dynamics of the age of deputies of the Verkhovna Rada of Ukraine (2012-2019)"
   ]
  },
  {
   "cell_type": "markdown",
   "id": "1096d41c-99a4-4ba6-b1ad-c8d2f87ec231",
   "metadata": {},
   "source": [
    "![rada](xxx.png) "
   ]
  },
  {
   "cell_type": "markdown",
   "id": "273ec394-857d-4c40-a0bc-84627f1cdeaf",
   "metadata": {},
   "source": [
    "### 1. Age of deputies: known and unknown characteristics"
   ]
  },
  {
   "cell_type": "markdown",
   "id": "a85de26c-68c0-4e59-83a2-ebe180f4f54d",
   "metadata": {
    "tags": []
   },
   "source": [
    "#### Usually, after the elections, the media focus not only on the voting results and distribution of seats in the parliament, but also on various socio-demographic characteristics of the elected MPs, in particular their age. The attention to the latter is selective and limited mainly to the present time. The selectivity of attention is manifested in the coverage of certain details or things. As an example, the following can be mentioned. First, the name, party affiliation, exact age of the youngest and the oldest elected deputy. Secondly, the increase in the number of deputies of a certain age group, the boundaries of which can be defined differently. Youth is an illustration of such a group. Thirdly, the average age of elected deputies. The limitations of the present time are manifested in the absence of systematic comparisons of the age of MPs elected in the current and previous parliamentary elections.\n"
   ]
  },
  {
   "cell_type": "markdown",
   "id": "d870dce4-8ccf-4fb4-8a91-1fba4c145efe",
   "metadata": {},
   "source": [
    "#### Several things related to the age of elected MPs remain outside the scope of attention. These include the age structure of the Parliament. That is, the distribution of MPs by age groups and the number of the latter. It is also necessary to mention the variation (variability) of the age of elected deputies. Clarification of this fact allows us to see how heterogeneous the composition of the parliament is in terms of age. In addition, in most cases, the dynamics of age is overlooked. Observing the age of MPs over time helps to identify and assess the dynamics."
   ]
  },
  {
   "cell_type": "markdown",
   "id": "9441e90b-b45d-4013-a671-f638576032fa",
   "metadata": {},
   "source": [
    "#### To answer the question of what is the age and what is its dynamics, data collection and analysis helps. The key points in data collection are to determine the age of the elected deputy and to define the boundaries and number of age groups."
   ]
  },
  {
   "cell_type": "markdown",
   "id": "9d46a142-3dc7-45c1-b850-dc4c128c31b1",
   "metadata": {},
   "source": [
    "### 2. Sources and methodology of data collection"
   ]
  },
  {
   "cell_type": "markdown",
   "id": "205fb916-1e3d-4117-a115-867c5c923700",
   "metadata": {},
   "source": [
    "#### When determining the age, the full number of years (without months and days) that the registered candidate had before the election day was taken into account. The calculation did not include candidates who later replaced those who terminated their deputy powers early.  The source of information were the websites of the CEC and the Verkhovna Rada of Ukraine."
   ]
  },
  {
   "cell_type": "markdown",
   "id": "a92c578f-077a-42c7-bccd-e9a89e5aae3c",
   "metadata": {},
   "source": [
    "#### The definition of the boundaries and number of age groups is of particular importance for making comparisons of the age of MPs both within one country over time and between countries in one particular time period. In our case, we combine the division of age groups used by the CEC and the Inter-Parliamentary Union (IPU). The elected deputies were divided into the following seven age groups: 21 - 30, 31 - 40, 41 - 50, 51 - 60, 61 - 70, 71 - 80, 81 - 90."
   ]
  },
  {
   "cell_type": "markdown",
   "id": "4546d197-58cf-46f7-b3f3-fb26102dae00",
   "metadata": {},
   "source": [
    "### 3. Analysis of the data obtained"
   ]
  },
  {
   "cell_type": "markdown",
   "id": "ece4b8bf-2c2c-4ebd-91f9-c6d9569f5b0d",
   "metadata": {},
   "source": [
    "#### The analysis of the data was aimed at finding out a number of things, namely: the distribution of deputies by age groups, the typical value of the age of deputies, the variation of the age of deputies and the dynamics of the above characteristics. The results of the data analysis are presented below in graphical and tabular form."
   ]
  },
  {
   "cell_type": "markdown",
   "id": "c110ae3b-4b48-428e-8a48-97d5d9715156",
   "metadata": {},
   "source": [
    "#### *a) Preliminary review and data transformation*"
   ]
  },
  {
   "cell_type": "code",
   "execution_count": 19,
   "id": "3075aab9-b32c-46ac-a7da-043fa50a637c",
   "metadata": {},
   "outputs": [],
   "source": [
    "# Loading the necessary analysis tools\n",
    "import pandas as pd\n",
    "import numpy as np\n",
    "import matplotlib.pyplot as plt\n",
    "import seaborn as sns"
   ]
  },
  {
   "cell_type": "code",
   "execution_count": 20,
   "id": "c9125d45-2eac-4cdd-b2e4-4cdc2a7d0652",
   "metadata": {},
   "outputs": [
    {
     "name": "stdout",
     "output_type": "stream",
     "text": [
      "   year          region  district             deputy  age  \\\n",
      "0  2012  кіровоградська        99      Табалов А. О.   34   \n",
      "1  2012  кіровоградська       100     Березкін С. С.   53   \n",
      "2  2012  кіровоградська       101  Грушевський В. А.   41   \n",
      "3  2012  кіровоградська       102         Єдін О. Й.   52   \n",
      "4  2012  кіровоградська       103    Кузьменко С. А.   37   \n",
      "\n",
      "  subject of nomination age group  \n",
      "0           Батьківщина     31-40  \n",
      "1       Партія регіонів     51-60  \n",
      "2       Партія регіонів     41-50  \n",
      "3       Партія регіонів     51-60  \n",
      "4       Партія регіонів     31-40  \n"
     ]
    }
   ],
   "source": [
    "# Downloading and previewing data\n",
    "df = pd.read_excel('agedeputies.xlsx')\n",
    "print(df.head())"
   ]
  },
  {
   "cell_type": "code",
   "execution_count": 21,
   "id": "1b5fbb4f-1a4e-441a-8d2a-5fb92d9ebfc9",
   "metadata": {},
   "outputs": [
    {
     "data": {
      "text/plain": [
       "year                     0\n",
       "region                   0\n",
       "district                 0\n",
       "deputy                   0\n",
       "age                      0\n",
       "subject of nomination    0\n",
       "age group                0\n",
       "dtype: int64"
      ]
     },
     "execution_count": 21,
     "metadata": {},
     "output_type": "execute_result"
    }
   ],
   "source": [
    "# Finding out the completeness and type of data\n",
    "df.isnull().sum()"
   ]
  },
  {
   "cell_type": "code",
   "execution_count": 22,
   "id": "1aca4eaf-0980-4166-adb4-dbb941225614",
   "metadata": {},
   "outputs": [
    {
     "data": {
      "text/plain": [
       "year                      int64\n",
       "region                   object\n",
       "district                  int64\n",
       "deputy                   object\n",
       "age                       int64\n",
       "subject of nomination    object\n",
       "age group                object\n",
       "dtype: object"
      ]
     },
     "execution_count": 22,
     "metadata": {},
     "output_type": "execute_result"
    }
   ],
   "source": [
    "df.dtypes"
   ]
  },
  {
   "cell_type": "code",
   "execution_count": 23,
   "id": "a3da0b3e-9cab-4c16-ab91-a503731c4483",
   "metadata": {},
   "outputs": [
    {
     "data": {
      "text/plain": [
       "year                     object\n",
       "region                   object\n",
       "district                  int64\n",
       "deputy                   object\n",
       "age                       int64\n",
       "subject of nomination    object\n",
       "age group                object\n",
       "dtype: object"
      ]
     },
     "execution_count": 23,
     "metadata": {},
     "output_type": "execute_result"
    }
   ],
   "source": [
    "# Data transformation\n",
    "df['year'] = df['year'].astype('str')\n",
    "df.dtypes"
   ]
  },
  {
   "cell_type": "markdown",
   "id": "146b1c5b-06f3-4597-baf2-7083226a9ab9",
   "metadata": {},
   "source": [
    "#### Thus, the verification and transformation of data allows us to proceed to their direct analysis"
   ]
  },
  {
   "cell_type": "markdown",
   "id": "f362a2bd-e8a8-41e9-9a74-9aaf5732bbb2",
   "metadata": {},
   "source": [
    "#### *b) Data visualization*"
   ]
  },
  {
   "cell_type": "markdown",
   "id": "d049deac-d515-4120-a62f-616e8a0044be",
   "metadata": {},
   "source": [
    "#### The first figure shows the distribution of MPs by age groups in the years when the last three parliamentary elections took place. Recall that the basis for the distribution by age groups was the age of the elected deputy before the election day. This figure makes it possible to see what the age structures of the Verkhovna Rada of Ukraine (at the beginning of its work) looked like after each election and compare them with each other."
   ]
  },
  {
   "cell_type": "code",
   "execution_count": 24,
   "id": "293ead0c-534a-4753-9c3e-7c3c7ed32124",
   "metadata": {
    "tags": []
   },
   "outputs": [
    {
     "data": {
      "image/png": "[encoded data removed]",
      "text/plain": [
       "<Figure size 1500x500 with 3 Axes>"
      ]
     },
     "metadata": {},
     "output_type": "display_data"
    }
   ],
   "source": [
    "# Using the seaborn library to visualize the distribution of deputies by age groups\n",
    "order = ['21-30','31-40','41-50','51-60','61-70','71-80','81-90']\n",
    "sns.catplot(data=df,x='age group',col='year',kind='count',order=order)\n",
    "plt.show()"
   ]
  },
  {
   "cell_type": "markdown",
   "id": "c28d0887-e2ba-42ce-8c6b-ba0902c81431",
   "metadata": {},
   "source": [
    "#### The second figure shows the changes in each age group over time. Even a quick glance is enough to see the following trends: an increase in numbers for such age groups as 21 - 30 and 31 - 40; an increase followed by a decrease for 41 - 50; a decrease for 51 - 60, 61 - 70, 71 - 80. The age group 81 - 90 was represented only in the Parliament elected in 2014. The largest increase in the number is observed in such age group as 31 - 40 when comparing 2014 with 2012. The largest scale of decrease is characteristic of the age group 51 - 60 when comparing 2014 with 2012.  "
   ]
  },
  {
   "cell_type": "code",
   "execution_count": 25,
   "id": "93ff45e0-4636-4691-a470-c879bd07a635",
   "metadata": {
    "tags": []
   },
   "outputs": [
    {
     "data": {
      "image/png": "[encoded data removed]",
      "text/plain": [
       "<Figure size 585.5x500 with 1 Axes>"
      ]
     },
     "metadata": {},
     "output_type": "display_data"
    }
   ],
   "source": [
    "# Using the seaborn library to visualize changes in age groups\n",
    "order = ['21-30','31-40','41-50','51-60','61-70','71-80','81-90']\n",
    "sns.catplot(data=df,x='age group',hue='year',kind='count',order=order)\n",
    "plt.show()"
   ]
  },
  {
   "cell_type": "markdown",
   "id": "9d12c54c-e104-490a-a755-5e651abb8e9d",
   "metadata": {},
   "source": [
    "#### *c) Age of MPs: typical values, variations and dynamics*"
   ]
  },
  {
   "cell_type": "markdown",
   "id": "eaaee6fe-ec76-43ea-baae-f65f5970c87c",
   "metadata": {},
   "source": [
    "#### The typical age value is a generalized characteristic that shows around which value the rest are grouped. That is, it expresses the central tendency. Usually, in practice, only the mean (calculated as an arithmetic mean) is given as a measure. However, if the shape of the distribution is skewed, then such a measure as the mean no longer accurately reflects the typical value of age. Therefore, it is necessary to use additionally such measure as median. In this case, we will get the value of age, which will divide the deputies into two equal parts. The first part will include those who are younger than the specified age, the second - older. "
   ]
  },
  {
   "cell_type": "code",
   "execution_count": 26,
   "id": "77157f69-7fe4-4cb2-a28a-2f8cb75e409b",
   "metadata": {
    "tags": []
   },
   "outputs": [
    {
     "name": "stdout",
     "output_type": "stream",
     "text": [
      "       mean  median\n",
      "year               \n",
      "2012  47.52    47.0\n",
      "2014  43.77    42.0\n",
      "2019  41.32    40.0\n"
     ]
    }
   ],
   "source": [
    "# Using pandas library to find out the typical age of deputies\n",
    "m = round(df['age'].groupby(df['year']).agg(['mean','median']),2)\n",
    "print(m)"
   ]
  },
  {
   "cell_type": "markdown",
   "id": "6290bd2b-087b-48b1-bd2d-a026a94b19da",
   "metadata": {},
   "source": [
    "#### What do the data presented in the table show? First, within this time period, there is a tendency to decrease the typical age value. Second, the scale of the decrease is larger when comparing all measures of 2014 with measures of 2012 than when comparing measures of 2019 and 2014."
   ]
  },
  {
   "cell_type": "markdown",
   "id": "6162576d-962e-456a-94ff-1210f72ba2d4",
   "metadata": {},
   "source": [
    "#### Usually in statistics the standard deviation is used as a measure of variation. However, for skewed distributions, it is also worth using the mean absolute deviation as a complementary measure. These measures show the typical distance of an observation from the mean. Data on variation give an idea of how heterogeneous the composition of the majority of MPs is in terms of age. The higher the value of the above measures, the more heterogeneous the age of the deputies is in relation to the average."
   ]
  },
  {
   "cell_type": "code",
   "execution_count": 27,
   "id": "b7ad0321-fec3-486e-b4c3-c19a52be610b",
   "metadata": {
    "tags": []
   },
   "outputs": [
    {
     "name": "stdout",
     "output_type": "stream",
     "text": [
      "        std   mad\n",
      "year             \n",
      "2012  10.51  8.62\n",
      "2014   9.66  7.64\n",
      "2019   9.35  7.53\n"
     ]
    }
   ],
   "source": [
    "# Using pandas library to find out the degree of variation in the age of deputies\n",
    "m1 = round(df['age'].groupby(df['year']).agg(['std','mad']),2)\n",
    "print(m1)"
   ]
  },
  {
   "cell_type": "markdown",
   "id": "d13741b2-20a6-49d9-a6d7-a7ee09d8d654",
   "metadata": {},
   "source": [
    "#### Thus, the data in the table shows that in terms of the age of MPs, the Parliament elected in 2012 looked somewhat more heterogeneous than in other years."
   ]
  },
  {
   "cell_type": "markdown",
   "id": "40cec153-2c56-4dcd-a1f5-bcba13d2d086",
   "metadata": {},
   "source": [
    "### 4. Prospects for analyzing the age of deputies"
   ]
  },
  {
   "cell_type": "markdown",
   "id": "fc6eace3-a181-4094-b441-af069b0da8ab",
   "metadata": {
    "tags": []
   },
   "source": [
    "#### The data presented above both in graphical and tabular form give a comprehensive picture of the dynamics of the age of MPs. However, does the age of a deputy matter? One can hear both negative and positive answers to this question. Usually, they are based on intuition, personal experience or broad generalizations based on very few observations. For empirically oriented political science this question is open and at the same time very general. To get concrete answers, it is necessary to ask more specific questions. For example, does the age of an MP affect legislative activity (the number and quality of submitted bills, amendments, etc.); is there a connection between the age of an MP and his/her attention to education, healthcare and environmental protection issues; does the age of an MP affect his/her compliance with party discipline; is age related to cooperation and competition between MPs, etc. Systematic data collection and analysis will provide answers. "
   ]
  }
 ],
 "metadata": {
  "kernelspec": {
   "display_name": "Python 3 (ipykernel)",
   "language": "python",
   "name": "python3"
  },
  "language_info": {
   "codemirror_mode": {
    "name": "ipython",
    "version": 3
   },
   "file_extension": ".py",
   "mimetype": "text/x-python",
   "name": "python",
   "nbconvert_exporter": "python",
   "pygments_lexer": "ipython3",
   "version": "3.11.9"
  }
 },
 "nbformat": 4,
 "nbformat_minor": 5
}
